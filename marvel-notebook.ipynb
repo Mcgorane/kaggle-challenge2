{
 "cells": [
  {
   "cell_type": "code",
   "execution_count": 217,
   "metadata": {},
   "outputs": [],
   "source": [
    "import pandas as pd\n",
    "import numpy as np\n",
    "import matplotlib as mpl\n",
    "from matplotlib import pyplot as plt\n",
    "import seaborn as sns\n",
    "\n",
    "plt.style.use('fivethirtyeight')\n",
    "plt.style.use('seaborn')\n"
   ]
  },
  {
   "cell_type": "code",
   "execution_count": 192,
   "metadata": {},
   "outputs": [],
   "source": [
    "url = 'imdb_com_movie_data.csv'\n",
    "df = pd.read_csv(url)"
   ]
  },
  {
   "cell_type": "code",
   "execution_count": 193,
   "metadata": {},
   "outputs": [
    {
     "data": {
      "text/html": [
       "<div>\n",
       "<style scoped>\n",
       "    .dataframe tbody tr th:only-of-type {\n",
       "        vertical-align: middle;\n",
       "    }\n",
       "\n",
       "    .dataframe tbody tr th {\n",
       "        vertical-align: top;\n",
       "    }\n",
       "\n",
       "    .dataframe thead th {\n",
       "        text-align: right;\n",
       "    }\n",
       "</style>\n",
       "<table border=\"1\" class=\"dataframe\">\n",
       "  <thead>\n",
       "    <tr style=\"text-align: right;\">\n",
       "      <th></th>\n",
       "      <th>Uniq Id</th>\n",
       "      <th>Crawl Timestamp</th>\n",
       "      <th>Pageurl</th>\n",
       "      <th>Title</th>\n",
       "      <th>Genres</th>\n",
       "      <th>Release Date</th>\n",
       "      <th>Movie Rating</th>\n",
       "      <th>Review Rating</th>\n",
       "      <th>Movie Run Time</th>\n",
       "      <th>Plot</th>\n",
       "      <th>Cast</th>\n",
       "      <th>Language</th>\n",
       "      <th>Filming Locations</th>\n",
       "      <th>Budget</th>\n",
       "      <th>Collection</th>\n",
       "      <th>Collection Date</th>\n",
       "    </tr>\n",
       "  </thead>\n",
       "  <tbody>\n",
       "    <tr>\n",
       "      <th>0</th>\n",
       "      <td>bdce103d6c8ee8206477f5ef43cdd6cf</td>\n",
       "      <td>2019-05-29 12:32:00 +0000</td>\n",
       "      <td>https://www.imdb.com/title/tt6791350/</td>\n",
       "      <td>Guardians of the Galaxy Vol. 3 (2021) - IMDb</td>\n",
       "      <td>NaN</td>\n",
       "      <td>NaN</td>\n",
       "      <td>NaN</td>\n",
       "      <td>NaN</td>\n",
       "      <td>NaN</td>\n",
       "      <td>Directed by James Gunn. With Elizabeth Debicki...</td>\n",
       "      <td>NaN</td>\n",
       "      <td>English</td>\n",
       "      <td>NaN</td>\n",
       "      <td>NaN</td>\n",
       "      <td>NaN</td>\n",
       "      <td>NaN</td>\n",
       "    </tr>\n",
       "    <tr>\n",
       "      <th>1</th>\n",
       "      <td>90bd11174adf73475d088f93a2da28da</td>\n",
       "      <td>2019-05-29 12:30:33 +0000</td>\n",
       "      <td>https://www.imdb.com/title/tt1228705/</td>\n",
       "      <td>Iron Man 2 (2010) - IMDb</td>\n",
       "      <td>Action|Adventure|Sci-Fi</td>\n",
       "      <td>7 May 2010 (USA)</td>\n",
       "      <td>PG-13</td>\n",
       "      <td>7.0</td>\n",
       "      <td>124 min</td>\n",
       "      <td>Directed by Jon Favreau. With Robert Downey Jr...</td>\n",
       "      <td>Robert Downey Jr.|Mickey Rourke|Gwyneth Paltro...</td>\n",
       "      <td>English|French|Russian</td>\n",
       "      <td>D.C. Stages, 1360 East 6th Street, Downtown, L...</td>\n",
       "      <td>$200,000,000</td>\n",
       "      <td>$623,933,331,</td>\n",
       "      <td>19 August 2010</td>\n",
       "    </tr>\n",
       "    <tr>\n",
       "      <th>2</th>\n",
       "      <td>df6fc7d029a7e5c214509cbfb513d283</td>\n",
       "      <td>2019-05-29 12:31:05 +0000</td>\n",
       "      <td>https://www.imdb.com/title/tt2015381/</td>\n",
       "      <td>Guardians of the Galaxy (2014) - IMDb</td>\n",
       "      <td>Action|Adventure|Comedy|Sci-Fi</td>\n",
       "      <td>1 August 2014 (USA)</td>\n",
       "      <td>PG-13</td>\n",
       "      <td>8.1</td>\n",
       "      <td>121 min</td>\n",
       "      <td>Directed by James Gunn. With Chris Pratt, Vin ...</td>\n",
       "      <td>Chris Pratt|Vin Diesel|Bradley Cooper|Zoe Saldana</td>\n",
       "      <td>English</td>\n",
       "      <td>Shepperton Studios, Shepperton, Surrey, Englan...</td>\n",
       "      <td>$170,000,000</td>\n",
       "      <td>$774,176,600</td>\n",
       "      <td>NaN</td>\n",
       "    </tr>\n",
       "    <tr>\n",
       "      <th>3</th>\n",
       "      <td>4f73f64a1b559ac76448fd9347bca974</td>\n",
       "      <td>2019-05-29 12:31:37 +0000</td>\n",
       "      <td>https://www.imdb.com/title/tt1825683/</td>\n",
       "      <td>Black Panther (2018) - IMDb</td>\n",
       "      <td>Action|Adventure|Sci-Fi</td>\n",
       "      <td>16 February 2018 (USA)</td>\n",
       "      <td>PG-13</td>\n",
       "      <td>7.3</td>\n",
       "      <td>134 min</td>\n",
       "      <td>Directed by Ryan Coogler. With Chadwick Bosema...</td>\n",
       "      <td>Chadwick Boseman|Michael B. Jordan|Lupita Nyon...</td>\n",
       "      <td>English|Swahili|Nama|Xhosa|Korean</td>\n",
       "      <td>Pinewood Atlanta Studios, 461 Sandy Creek Road...</td>\n",
       "      <td>$200,000,000</td>\n",
       "      <td>$1,347,071,259</td>\n",
       "      <td>NaN</td>\n",
       "    </tr>\n",
       "    <tr>\n",
       "      <th>4</th>\n",
       "      <td>35ced81a516bc02c3f303015cb7a068f</td>\n",
       "      <td>2019-05-29 12:30:49 +0000</td>\n",
       "      <td>https://www.imdb.com/title/tt1300854/</td>\n",
       "      <td>Iron Man 3 (2013) - IMDb</td>\n",
       "      <td>Action|Adventure|Sci-Fi</td>\n",
       "      <td>3 May 2013 (USA)</td>\n",
       "      <td>PG-13</td>\n",
       "      <td>7.2</td>\n",
       "      <td>130 min</td>\n",
       "      <td>Directed by Shane Black. With Robert Downey Jr...</td>\n",
       "      <td>Robert Downey Jr.|Guy Pearce|Gwyneth Paltrow|D...</td>\n",
       "      <td>English</td>\n",
       "      <td>Cary, North Carolina, USA</td>\n",
       "      <td>$200,000,000</td>\n",
       "      <td>$1,215,439,994</td>\n",
       "      <td>NaN</td>\n",
       "    </tr>\n",
       "  </tbody>\n",
       "</table>\n",
       "</div>"
      ],
      "text/plain": [
       "                            Uniq Id            Crawl Timestamp  \\\n",
       "0  bdce103d6c8ee8206477f5ef43cdd6cf  2019-05-29 12:32:00 +0000   \n",
       "1  90bd11174adf73475d088f93a2da28da  2019-05-29 12:30:33 +0000   \n",
       "2  df6fc7d029a7e5c214509cbfb513d283  2019-05-29 12:31:05 +0000   \n",
       "3  4f73f64a1b559ac76448fd9347bca974  2019-05-29 12:31:37 +0000   \n",
       "4  35ced81a516bc02c3f303015cb7a068f  2019-05-29 12:30:49 +0000   \n",
       "\n",
       "                                 Pageurl  \\\n",
       "0  https://www.imdb.com/title/tt6791350/   \n",
       "1  https://www.imdb.com/title/tt1228705/   \n",
       "2  https://www.imdb.com/title/tt2015381/   \n",
       "3  https://www.imdb.com/title/tt1825683/   \n",
       "4  https://www.imdb.com/title/tt1300854/   \n",
       "\n",
       "                                          Title  \\\n",
       "0  Guardians of the Galaxy Vol. 3 (2021) - IMDb   \n",
       "1                      Iron Man 2 (2010) - IMDb   \n",
       "2         Guardians of the Galaxy (2014) - IMDb   \n",
       "3                   Black Panther (2018) - IMDb   \n",
       "4                      Iron Man 3 (2013) - IMDb   \n",
       "\n",
       "                           Genres             Release Date Movie Rating  \\\n",
       "0                             NaN                      NaN          NaN   \n",
       "1         Action|Adventure|Sci-Fi        7 May 2010 (USA)         PG-13   \n",
       "2  Action|Adventure|Comedy|Sci-Fi     1 August 2014 (USA)         PG-13   \n",
       "3         Action|Adventure|Sci-Fi  16 February 2018 (USA)         PG-13   \n",
       "4         Action|Adventure|Sci-Fi        3 May 2013 (USA)         PG-13   \n",
       "\n",
       "   Review Rating Movie Run Time  \\\n",
       "0            NaN            NaN   \n",
       "1            7.0        124 min   \n",
       "2            8.1        121 min   \n",
       "3            7.3        134 min   \n",
       "4            7.2        130 min   \n",
       "\n",
       "                                                Plot  \\\n",
       "0  Directed by James Gunn. With Elizabeth Debicki...   \n",
       "1  Directed by Jon Favreau. With Robert Downey Jr...   \n",
       "2  Directed by James Gunn. With Chris Pratt, Vin ...   \n",
       "3  Directed by Ryan Coogler. With Chadwick Bosema...   \n",
       "4  Directed by Shane Black. With Robert Downey Jr...   \n",
       "\n",
       "                                                Cast  \\\n",
       "0                                                NaN   \n",
       "1  Robert Downey Jr.|Mickey Rourke|Gwyneth Paltro...   \n",
       "2  Chris Pratt|Vin Diesel|Bradley Cooper|Zoe Saldana   \n",
       "3  Chadwick Boseman|Michael B. Jordan|Lupita Nyon...   \n",
       "4  Robert Downey Jr.|Guy Pearce|Gwyneth Paltrow|D...   \n",
       "\n",
       "                            Language  \\\n",
       "0                            English   \n",
       "1             English|French|Russian   \n",
       "2                            English   \n",
       "3  English|Swahili|Nama|Xhosa|Korean   \n",
       "4                            English   \n",
       "\n",
       "                                   Filming Locations           Budget  \\\n",
       "0                                                NaN              NaN   \n",
       "1  D.C. Stages, 1360 East 6th Street, Downtown, L...   $200,000,000     \n",
       "2  Shepperton Studios, Shepperton, Surrey, Englan...   $170,000,000     \n",
       "3  Pinewood Atlanta Studios, 461 Sandy Creek Road...   $200,000,000     \n",
       "4                          Cary, North Carolina, USA   $200,000,000     \n",
       "\n",
       "       Collection Collection Date  \n",
       "0             NaN             NaN  \n",
       "1   $623,933,331,  19 August 2010  \n",
       "2    $774,176,600             NaN  \n",
       "3  $1,347,071,259             NaN  \n",
       "4  $1,215,439,994             NaN  "
      ]
     },
     "execution_count": 193,
     "metadata": {},
     "output_type": "execute_result"
    }
   ],
   "source": [
    "df.head()"
   ]
  },
  {
   "cell_type": "code",
   "execution_count": 218,
   "metadata": {},
   "outputs": [
    {
     "data": {
      "text/html": [
       "<div>\n",
       "<style scoped>\n",
       "    .dataframe tbody tr th:only-of-type {\n",
       "        vertical-align: middle;\n",
       "    }\n",
       "\n",
       "    .dataframe tbody tr th {\n",
       "        vertical-align: top;\n",
       "    }\n",
       "\n",
       "    .dataframe thead th {\n",
       "        text-align: right;\n",
       "    }\n",
       "</style>\n",
       "<table border=\"1\" class=\"dataframe\">\n",
       "  <thead>\n",
       "    <tr style=\"text-align: right;\">\n",
       "      <th></th>\n",
       "      <th>Uniq Id</th>\n",
       "      <th>Crawl Timestamp</th>\n",
       "      <th>Pageurl</th>\n",
       "      <th>Title</th>\n",
       "      <th>Genres</th>\n",
       "      <th>Release Date</th>\n",
       "      <th>Movie Rating</th>\n",
       "      <th>Review Rating</th>\n",
       "      <th>Movie Run Time</th>\n",
       "      <th>Plot</th>\n",
       "      <th>Cast</th>\n",
       "      <th>Language</th>\n",
       "      <th>Filming Locations</th>\n",
       "      <th>Budget</th>\n",
       "      <th>Collection</th>\n",
       "      <th>Collection Date</th>\n",
       "    </tr>\n",
       "  </thead>\n",
       "  <tbody>\n",
       "    <tr>\n",
       "      <th>19</th>\n",
       "      <td>35fe4557f4bf5da8479885aa4da464f2</td>\n",
       "      <td>2019-05-29 12:31:10 +0000</td>\n",
       "      <td>https://www.imdb.com/title/tt2395427/</td>\n",
       "      <td>Avengers: Age of Ultron (2015) - IMDb</td>\n",
       "      <td>Action|Adventure|Sci-Fi</td>\n",
       "      <td>1 May 2015 (USA)</td>\n",
       "      <td>PG-13</td>\n",
       "      <td>7.3</td>\n",
       "      <td>141 min</td>\n",
       "      <td>Directed by Joss Whedon. With Robert Downey Jr...</td>\n",
       "      <td>Robert Downey Jr.|Chris Evans|Mark Ruffalo|Chr...</td>\n",
       "      <td>English|Korean</td>\n",
       "      <td>Shepperton Studios, Shepperton, Surrey, Englan...</td>\n",
       "      <td>$250,000,000</td>\n",
       "      <td>$1,405,413,868</td>\n",
       "      <td>NaN</td>\n",
       "    </tr>\n",
       "    <tr>\n",
       "      <th>20</th>\n",
       "      <td>b74afc0a703201c2beba2ccce2ec8f6a</td>\n",
       "      <td>2019-05-29 12:31:25 +0000</td>\n",
       "      <td>https://www.imdb.com/title/tt3896198/</td>\n",
       "      <td>Guardians of the Galaxy Vol. 2 (2017) - IMDb</td>\n",
       "      <td>Action|Adventure|Comedy|Sci-Fi</td>\n",
       "      <td>5 May 2017 (USA)</td>\n",
       "      <td>PG-13</td>\n",
       "      <td>7.7</td>\n",
       "      <td>136 min</td>\n",
       "      <td>Directed by James Gunn. With Chris Pratt, Zoe ...</td>\n",
       "      <td>Chris Pratt|Zoe Saldana|Dave Bautista|Vin Diesel</td>\n",
       "      <td>English</td>\n",
       "      <td>Atlanta, Georgia, USA</td>\n",
       "      <td>$200,000,000</td>\n",
       "      <td>$863,756,051</td>\n",
       "      <td>NaN</td>\n",
       "    </tr>\n",
       "    <tr>\n",
       "      <th>21</th>\n",
       "      <td>19d5d860edf30b1b8cae839904dc9608</td>\n",
       "      <td>2019-05-29 12:31:33 +0000</td>\n",
       "      <td>https://www.imdb.com/title/tt3501632/</td>\n",
       "      <td>Thor: Ragnarok (2017) - IMDb</td>\n",
       "      <td>Action|Adventure|Comedy|Fantasy|Sci-Fi</td>\n",
       "      <td>3 November 2017 (USA)</td>\n",
       "      <td>PG-13</td>\n",
       "      <td>7.9</td>\n",
       "      <td>130 min</td>\n",
       "      <td>Directed by Taika Waititi. With Chris Hemswort...</td>\n",
       "      <td>Chris Hemsworth|Tom Hiddleston|Cate Blanchett|...</td>\n",
       "      <td>English</td>\n",
       "      <td>Village Roadshow Studios, Oxenford, Queensland...</td>\n",
       "      <td>$180,000,000</td>\n",
       "      <td>$853,977,126</td>\n",
       "      <td>NaN</td>\n",
       "    </tr>\n",
       "    <tr>\n",
       "      <th>22</th>\n",
       "      <td>df78fc064f82c61c69ae884b50e46d2e</td>\n",
       "      <td>2019-05-29 12:31:22 +0000</td>\n",
       "      <td>https://www.imdb.com/title/tt1211837/</td>\n",
       "      <td>Doctor Strange (2016) - IMDb</td>\n",
       "      <td>Action|Adventure|Fantasy|Sci-Fi</td>\n",
       "      <td>4 November 2016 (USA)</td>\n",
       "      <td>PG-13</td>\n",
       "      <td>7.5</td>\n",
       "      <td>115 min</td>\n",
       "      <td>Directed by Scott Derrickson. With Benedict Cu...</td>\n",
       "      <td>Benedict Cumberbatch|Chiwetel Ejiofor|Rachel M...</td>\n",
       "      <td>English</td>\n",
       "      <td>New York City, New York, USA</td>\n",
       "      <td>$165,000,000</td>\n",
       "      <td>$677,718,395</td>\n",
       "      <td>NaN</td>\n",
       "    </tr>\n",
       "    <tr>\n",
       "      <th>23</th>\n",
       "      <td>ca316d58a14a9a1a0ded9dedd8cd620d</td>\n",
       "      <td>2019-05-29 12:30:44 +0000</td>\n",
       "      <td>https://www.imdb.com/title/tt0848228/</td>\n",
       "      <td>The Avengers (2012) - IMDb</td>\n",
       "      <td>Action|Adventure|Sci-Fi</td>\n",
       "      <td>4 May 2012 (USA)</td>\n",
       "      <td>PG-13</td>\n",
       "      <td>8.1</td>\n",
       "      <td>143 min</td>\n",
       "      <td>Directed by Joss Whedon. With Robert Downey Jr...</td>\n",
       "      <td>Robert Downey Jr.|Chris Evans|Scarlett Johanss...</td>\n",
       "      <td>English|Russian|Hindi</td>\n",
       "      <td>Pittsburgh, Pennsylvania, USA</td>\n",
       "      <td>$220,000,000</td>\n",
       "      <td>$1,519,557,910</td>\n",
       "      <td>NaN</td>\n",
       "    </tr>\n",
       "  </tbody>\n",
       "</table>\n",
       "</div>"
      ],
      "text/plain": [
       "                             Uniq Id            Crawl Timestamp  \\\n",
       "19  35fe4557f4bf5da8479885aa4da464f2  2019-05-29 12:31:10 +0000   \n",
       "20  b74afc0a703201c2beba2ccce2ec8f6a  2019-05-29 12:31:25 +0000   \n",
       "21  19d5d860edf30b1b8cae839904dc9608  2019-05-29 12:31:33 +0000   \n",
       "22  df78fc064f82c61c69ae884b50e46d2e  2019-05-29 12:31:22 +0000   \n",
       "23  ca316d58a14a9a1a0ded9dedd8cd620d  2019-05-29 12:30:44 +0000   \n",
       "\n",
       "                                  Pageurl  \\\n",
       "19  https://www.imdb.com/title/tt2395427/   \n",
       "20  https://www.imdb.com/title/tt3896198/   \n",
       "21  https://www.imdb.com/title/tt3501632/   \n",
       "22  https://www.imdb.com/title/tt1211837/   \n",
       "23  https://www.imdb.com/title/tt0848228/   \n",
       "\n",
       "                                           Title  \\\n",
       "19         Avengers: Age of Ultron (2015) - IMDb   \n",
       "20  Guardians of the Galaxy Vol. 2 (2017) - IMDb   \n",
       "21                  Thor: Ragnarok (2017) - IMDb   \n",
       "22                  Doctor Strange (2016) - IMDb   \n",
       "23                    The Avengers (2012) - IMDb   \n",
       "\n",
       "                                    Genres            Release Date  \\\n",
       "19                 Action|Adventure|Sci-Fi       1 May 2015 (USA)    \n",
       "20          Action|Adventure|Comedy|Sci-Fi       5 May 2017 (USA)    \n",
       "21  Action|Adventure|Comedy|Fantasy|Sci-Fi  3 November 2017 (USA)    \n",
       "22         Action|Adventure|Fantasy|Sci-Fi  4 November 2016 (USA)    \n",
       "23                 Action|Adventure|Sci-Fi       4 May 2012 (USA)    \n",
       "\n",
       "   Movie Rating  Review Rating Movie Run Time  \\\n",
       "19        PG-13            7.3        141 min   \n",
       "20        PG-13            7.7        136 min   \n",
       "21        PG-13            7.9        130 min   \n",
       "22        PG-13            7.5        115 min   \n",
       "23        PG-13            8.1        143 min   \n",
       "\n",
       "                                                 Plot  \\\n",
       "19  Directed by Joss Whedon. With Robert Downey Jr...   \n",
       "20  Directed by James Gunn. With Chris Pratt, Zoe ...   \n",
       "21  Directed by Taika Waititi. With Chris Hemswort...   \n",
       "22  Directed by Scott Derrickson. With Benedict Cu...   \n",
       "23  Directed by Joss Whedon. With Robert Downey Jr...   \n",
       "\n",
       "                                                 Cast               Language  \\\n",
       "19  Robert Downey Jr.|Chris Evans|Mark Ruffalo|Chr...         English|Korean   \n",
       "20   Chris Pratt|Zoe Saldana|Dave Bautista|Vin Diesel                English   \n",
       "21  Chris Hemsworth|Tom Hiddleston|Cate Blanchett|...                English   \n",
       "22  Benedict Cumberbatch|Chiwetel Ejiofor|Rachel M...                English   \n",
       "23  Robert Downey Jr.|Chris Evans|Scarlett Johanss...  English|Russian|Hindi   \n",
       "\n",
       "                                    Filming Locations           Budget  \\\n",
       "19  Shepperton Studios, Shepperton, Surrey, Englan...   $250,000,000     \n",
       "20                              Atlanta, Georgia, USA   $200,000,000     \n",
       "21  Village Roadshow Studios, Oxenford, Queensland...   $180,000,000     \n",
       "22                       New York City, New York, USA   $165,000,000     \n",
       "23                      Pittsburgh, Pennsylvania, USA   $220,000,000     \n",
       "\n",
       "        Collection Collection Date  \n",
       "19  $1,405,413,868             NaN  \n",
       "20    $863,756,051             NaN  \n",
       "21    $853,977,126             NaN  \n",
       "22    $677,718,395             NaN  \n",
       "23  $1,519,557,910             NaN  "
      ]
     },
     "execution_count": 218,
     "metadata": {},
     "output_type": "execute_result"
    }
   ],
   "source": [
    "df.tail()"
   ]
  },
  {
   "cell_type": "code",
   "execution_count": 195,
   "metadata": {},
   "outputs": [
    {
     "name": "stdout",
     "output_type": "stream",
     "text": [
      "<class 'pandas.core.frame.DataFrame'>\n",
      "RangeIndex: 24 entries, 0 to 23\n",
      "Data columns (total 16 columns):\n",
      " #   Column             Non-Null Count  Dtype  \n",
      "---  ------             --------------  -----  \n",
      " 0   Uniq Id            24 non-null     object \n",
      " 1   Crawl Timestamp    24 non-null     object \n",
      " 2   Pageurl            24 non-null     object \n",
      " 3   Title              24 non-null     object \n",
      " 4   Genres             22 non-null     object \n",
      " 5   Release Date       23 non-null     object \n",
      " 6   Movie Rating       22 non-null     object \n",
      " 7   Review Rating      22 non-null     float64\n",
      " 8   Movie Run Time     22 non-null     object \n",
      " 9   Plot               24 non-null     object \n",
      " 10  Cast               22 non-null     object \n",
      " 11  Language           24 non-null     object \n",
      " 12  Filming Locations  23 non-null     object \n",
      " 13  Budget             21 non-null     object \n",
      " 14  Collection         22 non-null     object \n",
      " 15  Collection Date    4 non-null      object \n",
      "dtypes: float64(1), object(15)\n",
      "memory usage: 3.1+ KB\n"
     ]
    }
   ],
   "source": [
    "df.info()"
   ]
  },
  {
   "cell_type": "code",
   "execution_count": 196,
   "metadata": {},
   "outputs": [
    {
     "data": {
      "text/plain": [
       "(24, 16)"
      ]
     },
     "execution_count": 196,
     "metadata": {},
     "output_type": "execute_result"
    }
   ],
   "source": [
    "df.shape"
   ]
  },
  {
   "cell_type": "code",
   "execution_count": 197,
   "metadata": {},
   "outputs": [
    {
     "data": {
      "text/html": [
       "<div>\n",
       "<style scoped>\n",
       "    .dataframe tbody tr th:only-of-type {\n",
       "        vertical-align: middle;\n",
       "    }\n",
       "\n",
       "    .dataframe tbody tr th {\n",
       "        vertical-align: top;\n",
       "    }\n",
       "\n",
       "    .dataframe thead th {\n",
       "        text-align: right;\n",
       "    }\n",
       "</style>\n",
       "<table border=\"1\" class=\"dataframe\">\n",
       "  <thead>\n",
       "    <tr style=\"text-align: right;\">\n",
       "      <th></th>\n",
       "      <th>Review Rating</th>\n",
       "    </tr>\n",
       "  </thead>\n",
       "  <tbody>\n",
       "    <tr>\n",
       "      <th>count</th>\n",
       "      <td>22.000000</td>\n",
       "    </tr>\n",
       "    <tr>\n",
       "      <th>mean</th>\n",
       "      <td>7.518182</td>\n",
       "    </tr>\n",
       "    <tr>\n",
       "      <th>std</th>\n",
       "      <td>0.549143</td>\n",
       "    </tr>\n",
       "    <tr>\n",
       "      <th>min</th>\n",
       "      <td>6.700000</td>\n",
       "    </tr>\n",
       "    <tr>\n",
       "      <th>25%</th>\n",
       "      <td>7.100000</td>\n",
       "    </tr>\n",
       "    <tr>\n",
       "      <th>50%</th>\n",
       "      <td>7.400000</td>\n",
       "    </tr>\n",
       "    <tr>\n",
       "      <th>75%</th>\n",
       "      <td>7.875000</td>\n",
       "    </tr>\n",
       "    <tr>\n",
       "      <th>max</th>\n",
       "      <td>8.800000</td>\n",
       "    </tr>\n",
       "  </tbody>\n",
       "</table>\n",
       "</div>"
      ],
      "text/plain": [
       "       Review Rating\n",
       "count      22.000000\n",
       "mean        7.518182\n",
       "std         0.549143\n",
       "min         6.700000\n",
       "25%         7.100000\n",
       "50%         7.400000\n",
       "75%         7.875000\n",
       "max         8.800000"
      ]
     },
     "execution_count": 197,
     "metadata": {},
     "output_type": "execute_result"
    }
   ],
   "source": [
    "df.describe()"
   ]
  },
  {
   "cell_type": "code",
   "execution_count": 198,
   "metadata": {},
   "outputs": [
    {
     "data": {
      "text/plain": [
       "Index(['Uniq Id', 'Crawl Timestamp', 'Pageurl', 'Title', 'Genres',\n",
       "       'Release Date', 'Movie Rating', 'Review Rating', 'Movie Run Time',\n",
       "       'Plot', 'Cast', 'Language', 'Filming Locations', 'Budget', 'Collection',\n",
       "       'Collection Date'],\n",
       "      dtype='object')"
      ]
     },
     "execution_count": 198,
     "metadata": {},
     "output_type": "execute_result"
    }
   ],
   "source": [
    "df.columns"
   ]
  },
  {
   "cell_type": "code",
   "execution_count": 199,
   "metadata": {},
   "outputs": [
    {
     "data": {
      "text/plain": [
       "Uniq Id              24\n",
       "Crawl Timestamp      24\n",
       "Pageurl              24\n",
       "Title                24\n",
       "Genres                6\n",
       "Release Date         23\n",
       "Movie Rating          1\n",
       "Review Rating        13\n",
       "Movie Run Time       17\n",
       "Plot                 24\n",
       "Cast                 21\n",
       "Language             12\n",
       "Filming Locations    15\n",
       "Budget               13\n",
       "Collection           22\n",
       "Collection Date       4\n",
       "dtype: int64"
      ]
     },
     "execution_count": 199,
     "metadata": {},
     "output_type": "execute_result"
    }
   ],
   "source": [
    "df.nunique()"
   ]
  },
  {
   "cell_type": "code",
   "execution_count": 200,
   "metadata": {},
   "outputs": [
    {
     "data": {
      "text/plain": [
       "Uniq Id               0\n",
       "Crawl Timestamp       0\n",
       "Pageurl               0\n",
       "Title                 0\n",
       "Genres                2\n",
       "Release Date          1\n",
       "Movie Rating          2\n",
       "Review Rating         2\n",
       "Movie Run Time        2\n",
       "Plot                  0\n",
       "Cast                  2\n",
       "Language              0\n",
       "Filming Locations     1\n",
       "Budget                3\n",
       "Collection            2\n",
       "Collection Date      20\n",
       "dtype: int64"
      ]
     },
     "execution_count": 200,
     "metadata": {},
     "output_type": "execute_result"
    }
   ],
   "source": [
    "df.isnull().sum()"
   ]
  },
  {
   "cell_type": "markdown",
   "metadata": {},
   "source": [
    "### Using review rating, Movie Run Time and budget"
   ]
  },
  {
   "cell_type": "markdown",
   "metadata": {},
   "source": [
    "### This plot show how the more budget a film has the more is longer and the more it has best review"
   ]
  },
  {
   "cell_type": "code",
   "execution_count": 204,
   "metadata": {},
   "outputs": [
    {
     "data": {
      "image/png": "[encoded data removed]",
      "text/plain": [
       "<Figure size 576x396 with 1 Axes>"
      ]
     },
     "metadata": {},
     "output_type": "display_data"
    }
   ],
   "source": [
    "sns.scatterplot(x='Review Rating', y='Movie Run Time', hue= \"Budget\", data=df)\n",
    "plt.show()"
   ]
  },
  {
   "cell_type": "markdown",
   "metadata": {},
   "source": [
    "### Relationship Analysis"
   ]
  },
  {
   "cell_type": "markdown",
   "metadata": {},
   "source": [
    "### Relationship between genres and popularity"
   ]
  },
  {
   "cell_type": "code",
   "execution_count": 219,
   "metadata": {},
   "outputs": [
    {
     "data": {
      "image/png": "[encoded data removed]",
      "text/plain": [
       "<Figure size 576x396 with 1 Axes>"
      ]
     },
     "metadata": {},
     "output_type": "display_data"
    }
   ],
   "source": [
    "sns.countplot(y = 'Genres', data = df)\n",
    "plt.show()"
   ]
  },
  {
   "cell_type": "markdown",
   "metadata": {},
   "source": [
    "# Average rating"
   ]
  },
  {
   "cell_type": "code",
   "execution_count": 93,
   "metadata": {},
   "outputs": [
    {
     "data": {
      "image/png": "[encoded data removed]",
      "text/plain": [
       "<Figure size 432x288 with 1 Axes>"
      ]
     },
     "metadata": {},
     "output_type": "display_data"
    }
   ],
   "source": [
    "sns.countplot(x = 'Review Rating', data = df)\n",
    "plt.show()"
   ]
  },
  {
   "cell_type": "code",
   "execution_count": null,
   "metadata": {},
   "outputs": [],
   "source": []
  }
 ],
 "metadata": {
  "kernelspec": {
   "display_name": "Python 3",
   "language": "python",
   "name": "python3"
  },
  "language_info": {
   "codemirror_mode": {
    "name": "ipython",
    "version": 3
   },
   "file_extension": ".py",
   "mimetype": "text/x-python",
   "name": "python",
   "nbconvert_exporter": "python",
   "pygments_lexer": "ipython3",
   "version": "3.8.3"
  }
 },
 "nbformat": 4,
 "nbformat_minor": 4
}
